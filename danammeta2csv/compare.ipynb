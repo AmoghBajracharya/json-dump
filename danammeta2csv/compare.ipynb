{
 "cells": [
  {
   "cell_type": "markdown",
   "metadata": {},
   "source": [
    "# Data Discrepancy between HeidICON and DANAM\n",
    "\n",
    "This jupyter notebook can be used to compare the filenames between HeidICON and DANAM, and export the results into an excel file."
   ]
  },
  {
   "cell_type": "code",
   "execution_count": 1,
   "metadata": {},
   "outputs": [],
   "source": [
    "import pandas as pd\n",
    "from scripts.compare import *\n",
    "from scripts.write_csv import list_from_txt\n",
    "from IPython.display import display_markdown, display, Markdown\n",
    "\n",
    "pd.set_option('display.max_colwidth', None)\n",
    "pd.set_option('display.max_rows', 100)"
   ]
  },
  {
   "cell_type": "code",
   "execution_count": 3,
   "metadata": {},
   "outputs": [],
   "source": [
    "# read heidicon export\n",
    "heidicon_export = \"heidicon_export.xlsx\"\n",
    "danam_export = \"json\\dict\\Monument_2022-11-13_01-18-33.json\""
   ]
  },
  {
   "cell_type": "code",
   "execution_count": 4,
   "metadata": {},
   "outputs": [],
   "source": [
    "# load both heidicon and danam to pandas\n",
    "# this might take up to a minute.\n",
    "heidicon_df, danam_df = load_data(heidicon_export, danam_export)"
   ]
  },
  {
   "cell_type": "markdown",
   "metadata": {},
   "source": [
    "| key | description |\n",
    "|-----|-------------|\n",
    "| mon_id | Monument ID |\n",
    "| heidicon_img | Number of images in HeidICON |\n",
    "| heidicon_nometa | Number of images in HeidICON without metadata |\n",
    "| danam_img | Number of images in DANAM |\n",
    "| danam_nometa | Number of images in DANAM without a valid caption |\n",
    "| sds_img | Number of images in SDS |\n",
    "| files | Files of the monument from SDS, DANAM, and HeidICON as dataframe | \n",
    "| missing_danam | Files from HeidICON that are missing in DANAM |\n",
    "| count_missing_danam | Number of files missing in DANAM |\n",
    "| missing_heidicon | Files from DANAM that are missing in HeidICON |\n",
    "| count_missing_heidicon | Number of files missing in HeidICON |"
   ]
  },
  {
   "cell_type": "code",
   "execution_count": 5,
   "metadata": {},
   "outputs": [],
   "source": [
    "# evaluate file names for all monuments listed in mon/all.mon \n",
    "# and export to excel file test.xlsx\n",
    "# this calculation might take up to 5 minutes, depending \n",
    "# on the computer\n",
    "mon_ids = list_from_txt(\"mon/all.mon\")\n",
    "all = []\n",
    "for mon_id in mon_ids:\n",
    "    all.append(get_info_for_monument(mon_id, heidicon_df, danam_df))\n",
    "pd.DataFrame(all).to_excel(\"test.xlsx\")"
   ]
  },
  {
   "cell_type": "code",
   "execution_count": 6,
   "metadata": {},
   "outputs": [
    {
     "data": {
      "text/markdown": [
       "\n",
       "| Monument ID   |   |\n",
       "|---|---|\n",
       "| Number of images in HeidICON  | 0  |\n",
       "| Number of images in HeidICON without metadata  | 0  |\n",
       "| Number of images in DANAM  | 225  |\n",
       "| Number of image without valid caption in DANAM | 2  |\n",
       "| Number of images in SDS  | 23972  |\n",
       "\n"
      ],
      "text/plain": [
       "<IPython.core.display.Markdown object>"
      ]
     },
     "metadata": {},
     "output_type": "display_data"
    },
    {
     "data": {
      "text/html": [
       "<div>\n",
       "<style scoped>\n",
       "    .dataframe tbody tr th:only-of-type {\n",
       "        vertical-align: middle;\n",
       "    }\n",
       "\n",
       "    .dataframe tbody tr th {\n",
       "        vertical-align: top;\n",
       "    }\n",
       "\n",
       "    .dataframe thead th {\n",
       "        text-align: right;\n",
       "    }\n",
       "</style>\n",
       "<table border=\"1\" class=\"dataframe\">\n",
       "  <thead>\n",
       "    <tr style=\"text-align: right;\">\n",
       "      <th></th>\n",
       "      <th>sds</th>\n",
       "      <th>danam</th>\n",
       "      <th>heidicon</th>\n",
       "    </tr>\n",
       "  </thead>\n",
       "  <tbody>\n",
       "    <tr>\n",
       "      <th>0</th>\n",
       "      <td></td>\n",
       "      <td>KIR0003-001_P_20201003_01</td>\n",
       "      <td>NaN</td>\n",
       "    </tr>\n",
       "    <tr>\n",
       "      <th>1</th>\n",
       "      <td>0235_IMG_1936</td>\n",
       "      <td>KIR0003-002_P_20201003_01</td>\n",
       "      <td>NaN</td>\n",
       "    </tr>\n",
       "    <tr>\n",
       "      <th>2</th>\n",
       "      <td>0237</td>\n",
       "      <td>KIR0003-003_P_20201003_01</td>\n",
       "      <td>NaN</td>\n",
       "    </tr>\n",
       "    <tr>\n",
       "      <th>3</th>\n",
       "      <td>0361_(VO2B8809)</td>\n",
       "      <td>KIR0003-004_P_20201003_01</td>\n",
       "      <td>NaN</td>\n",
       "    </tr>\n",
       "    <tr>\n",
       "      <th>4</th>\n",
       "      <td>0421_(VO2B8740)</td>\n",
       "      <td>KIR0003-005_P_20201003_01</td>\n",
       "      <td>NaN</td>\n",
       "    </tr>\n",
       "    <tr>\n",
       "      <th>...</th>\n",
       "      <td>...</td>\n",
       "      <td>...</td>\n",
       "      <td>...</td>\n",
       "    </tr>\n",
       "    <tr>\n",
       "      <th>23967</th>\n",
       "      <td>_NEF2244</td>\n",
       "      <td>NaN</td>\n",
       "      <td>NaN</td>\n",
       "    </tr>\n",
       "    <tr>\n",
       "      <th>23968</th>\n",
       "      <td>_NEF2245</td>\n",
       "      <td>NaN</td>\n",
       "      <td>NaN</td>\n",
       "    </tr>\n",
       "    <tr>\n",
       "      <th>23969</th>\n",
       "      <td>plot</td>\n",
       "      <td>NaN</td>\n",
       "      <td>NaN</td>\n",
       "    </tr>\n",
       "    <tr>\n",
       "      <th>23970</th>\n",
       "      <td>roundsimaging</td>\n",
       "      <td>NaN</td>\n",
       "      <td>NaN</td>\n",
       "    </tr>\n",
       "    <tr>\n",
       "      <th>23971</th>\n",
       "      <td>LAL4210_rp_201802_CB_IMG_9798</td>\n",
       "      <td>NaN</td>\n",
       "      <td>NaN</td>\n",
       "    </tr>\n",
       "  </tbody>\n",
       "</table>\n",
       "<p>23972 rows × 3 columns</p>\n",
       "</div>"
      ],
      "text/plain": [
       "                                  sds                      danam heidicon\n",
       "0                                      KIR0003-001_P_20201003_01      NaN\n",
       "1                       0235_IMG_1936  KIR0003-002_P_20201003_01      NaN\n",
       "2                                0237  KIR0003-003_P_20201003_01      NaN\n",
       "3                     0361_(VO2B8809)  KIR0003-004_P_20201003_01      NaN\n",
       "4                     0421_(VO2B8740)  KIR0003-005_P_20201003_01      NaN\n",
       "...                               ...                        ...      ...\n",
       "23967                        _NEF2244                        NaN      NaN\n",
       "23968                        _NEF2245                        NaN      NaN\n",
       "23969                            plot                        NaN      NaN\n",
       "23970                   roundsimaging                        NaN      NaN\n",
       "23971  LAL4210_rp_201802_CB_IMG_9798                        NaN      NaN\n",
       "\n",
       "[23972 rows x 3 columns]"
      ]
     },
     "execution_count": 6,
     "metadata": {},
     "output_type": "execute_result"
    }
   ],
   "source": [
    "# show the status of a monument and its list of files\n",
    "# on SDS, DANAM, and HeidICON\n",
    "\n",
    "mon_id = ''\n",
    "res = get_info_for_monument(mon_id, heidicon_df, danam_df)\n",
    "\n",
    "display(Markdown(\n",
    "\"\"\"\n",
    "| Monument ID   | {0}  |\n",
    "|---|---|\n",
    "| Number of images in HeidICON  | {1}  |\n",
    "| Number of images in HeidICON without metadata  | {2}  |\n",
    "| Number of images in DANAM  | {3}  |\n",
    "| Number of image without valid caption in DANAM | {4}  |\n",
    "| Number of images in SDS  | {5}  |\n",
    "\n",
    "\"\"\".format( res['mon_id'], res['heidicon_img'], res['heidicon_nometa'], \n",
    "            res['danam_img'], res['danam_nometa'], res['sds_img'] \n",
    ")))\n",
    "res['files']"
   ]
  }
 ],
 "metadata": {
  "kernelspec": {
   "display_name": "Python 3.9.6 64-bit",
   "language": "python",
   "name": "python3"
  },
  "language_info": {
   "codemirror_mode": {
    "name": "ipython",
    "version": 3
   },
   "file_extension": ".py",
   "mimetype": "text/x-python",
   "name": "python",
   "nbconvert_exporter": "python",
   "pygments_lexer": "ipython3",
   "version": "3.9.6"
  },
  "orig_nbformat": 4,
  "vscode": {
   "interpreter": {
    "hash": "11938c6bc6919ae2720b4d5011047913343b08a43b18698fd82dedb0d4417594"
   }
  }
 },
 "nbformat": 4,
 "nbformat_minor": 2
}
